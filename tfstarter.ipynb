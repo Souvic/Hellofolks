{
 "cells": [
  {
   "cell_type": "code",
   "execution_count": 1,
   "metadata": {},
   "outputs": [],
   "source": [
    "import os, ssl\n",
    "if (not os.environ.get('PYTHONHTTPSVERIFY', '') and getattr(ssl, '_create_unverified_context', None)): \n",
    "  ssl._create_default_https_context = ssl._create_unverified_context"
   ]
  },
  {
   "cell_type": "code",
   "execution_count": 2,
   "metadata": {
    "collapsed": true
   },
   "outputs": [],
   "source": [
    "import numpy as np"
   ]
  },
  {
   "cell_type": "code",
   "execution_count": 3,
   "metadata": {},
   "outputs": [
    {
     "name": "stderr",
     "output_type": "stream",
     "text": [
      "/Library/Frameworks/Python.framework/Versions/3.6/lib/python3.6/importlib/_bootstrap.py:205: RuntimeWarning: compiletime version 3.5 of module 'tensorflow.python.framework.fast_tensor_util' does not match runtime version 3.6\n",
      "  return f(*args, **kwds)\n",
      "/Library/Frameworks/Python.framework/Versions/3.6/lib/python3.6/site-packages/h5py/__init__.py:34: FutureWarning: Conversion of the second argument of issubdtype from `float` to `np.floating` is deprecated. In future, it will be treated as `np.float64 == np.dtype(float).type`.\n",
      "  from ._conv import register_converters as _register_converters\n"
     ]
    },
    {
     "name": "stdout",
     "output_type": "stream",
     "text": [
      "Extracting MNIST_data/train-images-idx3-ubyte.gz\n",
      "Extracting MNIST_data/train-labels-idx1-ubyte.gz\n",
      "Extracting MNIST_data/t10k-images-idx3-ubyte.gz\n",
      "Extracting MNIST_data/t10k-labels-idx1-ubyte.gz\n"
     ]
    }
   ],
   "source": [
    "from tensorflow.examples.tutorials.mnist import input_data\n",
    "mnist = input_data.read_data_sets(\"MNIST_data/\", one_hot=True)"
   ]
  },
  {
   "cell_type": "code",
   "execution_count": 38,
   "metadata": {
    "collapsed": true
   },
   "outputs": [],
   "source": [
    "def batch_selector(x,y,loss,batch_size,mode=\"random\"):\n",
    "    if(mode==\"random\"):\n",
    "        indices=np.random.choice(len(x),batch_size)\n",
    "        return(x[indices],y[indices],indices)\n",
    "    pp=loss.copy()**3#1.0/(0.0001+loss.copy())\n",
    "    k=sum(pp<0)\n",
    "    if(k!=0):\n",
    "        h=k/len(pp)\n",
    "        pp=pp/(sum(pp[pp<0]))*h\n",
    "    pp[pp<0]=1/len(pp)\n",
    "    #print(sum(p))\n",
    "    #print(np.array(p))\n",
    "    #print(batch_size)\n",
    "    indices=np.random.choice(len(pp),batch_size,pp.tolist())\n",
    "    return(x[indices],y[indices],indices)\n",
    "    "
   ]
  },
  {
   "cell_type": "code",
   "execution_count": 65,
   "metadata": {
    "collapsed": true
   },
   "outputs": [],
   "source": [
    "import tensorflow as tf"
   ]
  },
  {
   "cell_type": "code",
   "execution_count": 66,
   "metadata": {
    "collapsed": true
   },
   "outputs": [],
   "source": [
    "x = tf.placeholder(tf.float32, [None, 784])"
   ]
  },
  {
   "cell_type": "code",
   "execution_count": 67,
   "metadata": {
    "collapsed": true
   },
   "outputs": [],
   "source": [
    "W = tf.Variable(tf.random_normal([784, 64]))\n",
    "b = tf.Variable(tf.ones([64]))\n",
    "y1 = tf.nn.sigmoid(tf.matmul(x, W) + b)\n",
    "W1 = tf.Variable(tf.random_normal([64, 10]))\n",
    "b1 = tf.Variable(tf.ones([10]))\n",
    "y = tf.nn.softmax(tf.matmul(y1, W1) + b1)\n",
    "y_ = tf.placeholder(tf.float32, [None, 10])\n",
    "cross_entropy1 = (-tf.reduce_sum(y_ * tf.log(y), reduction_indices=[1]))\n",
    "cross_entropy=tf.reduce_mean(cross_entropy1)\n",
    "train_step = tf.train.GradientDescentOptimizer(1.0).minimize(cross_entropy)"
   ]
  },
  {
   "cell_type": "code",
   "execution_count": 68,
   "metadata": {
    "collapsed": true
   },
   "outputs": [],
   "source": [
    "correct_prediction = tf.equal(tf.argmax(y,1), tf.argmax(y_,1))\n",
    "accuracy = tf.reduce_mean(tf.cast(correct_prediction, tf.float32))"
   ]
  },
  {
   "cell_type": "code",
   "execution_count": 69,
   "metadata": {
    "collapsed": true
   },
   "outputs": [],
   "source": [
    "sess = tf.InteractiveSession()\n",
    "tf.global_variables_initializer().run()\n",
    "batch_size=100;p=np.array([-10.0]*len(mnist.train.labels));accumulator1=[]"
   ]
  },
  {
   "cell_type": "code",
   "execution_count": 70,
   "metadata": {},
   "outputs": [
    {
     "name": "stdout",
     "output_type": "stream",
     "text": [
      "(55000,)\n"
     ]
    }
   ],
   "source": [
    "print(p.shape)"
   ]
  },
  {
   "cell_type": "code",
   "execution_count": 71,
   "metadata": {},
   "outputs": [],
   "source": [
    "for _ in range(1000):\n",
    "    batch_xs, batch_ys,indices = batch_selector(mnist.train.images,mnist.train.labels,p,batch_size,'selective')\n",
    "    loss=sess.run([cross_entropy1, train_step], feed_dict={x: batch_xs, y_: batch_ys})[0]\n",
    "    p[indices]=loss#############################################################################################\n",
    "    if _%10==0:\n",
    "        aa,bb=sess.run([cross_entropy1,cross_entropy], feed_dict={x: mnist.train.images, y_: mnist.train.labels})\n",
    "        p=aa\n",
    "        accumulator1=accumulator1+[bb]"
   ]
  },
  {
   "cell_type": "code",
   "execution_count": 72,
   "metadata": {},
   "outputs": [
    {
     "name": "stdout",
     "output_type": "stream",
     "text": [
      "[6.7366843, 2.7325463, 1.8941069, 1.6154126, 1.3039062, 1.1244853, 0.97411156, 0.94159055, 0.8705858, 0.9004047, 0.80584514, 0.7545412, 0.7250635, 0.68886393, 0.6848963, 0.7393553, 0.67374855, 0.6340945, 0.6710259, 0.64072776, 0.65874356, 0.5703552, 0.56833166, 0.55800813, 0.5751517, 0.55003667, 0.55566895, 0.5359063, 0.5149375, 0.57023495, 0.5131902, 0.50993305, 0.51170397, 0.51447237, 0.5057069, 0.5095384, 0.4938961, 0.47894406, 0.49427062, 0.46356192, 0.46962568, 0.4658053, 0.44712472, 0.46263018, 0.47227806, 0.49170262, 0.44258684, 0.46888655, 0.42038384, 0.43597317, 0.41752565, 0.41460034, 0.4060464, 0.41853487, 0.40661526, 0.41143614, 0.4146669, 0.40181473, 0.4211684, 0.414114, 0.4532985, 0.42246008, 0.40998474, 0.38376343, 0.3962097, 0.37317243, 0.41253173, 0.39154986, 0.37909293, 0.3801583, 0.3728952, 0.3786352, 0.37620306, 0.37623423, 0.36269808, 0.3643412, 0.36515743, 0.37972474, 0.3752345, 0.3587858, 0.35180143, 0.34927925, 0.35338777, 0.34246606, 0.33973938, 0.34854174, 0.34828758, 0.34795526, 0.35083365, 0.34393543, 0.3373645, 0.3405915, 0.33790892, 0.332272, 0.33523664, 0.33067444, 0.3259656, 0.33845812, 0.32462656, 0.33072525]\n"
     ]
    }
   ],
   "source": [
    "print(accumulator1)"
   ]
  },
  {
   "cell_type": "code",
   "execution_count": 73,
   "metadata": {
    "collapsed": true
   },
   "outputs": [],
   "source": [
    "sess = tf.InteractiveSession()\n",
    "tf.global_variables_initializer().run()\n",
    "batch_size=100;p=np.array([-10.0]*len(mnist.train.labels));accumulator2=[]"
   ]
  },
  {
   "cell_type": "code",
   "execution_count": 74,
   "metadata": {},
   "outputs": [],
   "source": [
    "for _ in range(1000):\n",
    "    batch_xs, batch_ys,indices = batch_selector(mnist.train.images,mnist.train.labels,p,batch_size,'random')\n",
    "    loss=sess.run([cross_entropy1, train_step], feed_dict={x: batch_xs, y_: batch_ys})[0]\n",
    "    if _%10==0:\n",
    "        accumulator2=accumulator2+[sess.run(cross_entropy, feed_dict={x: mnist.train.images, y_: mnist.train.labels})]"
   ]
  },
  {
   "cell_type": "code",
   "execution_count": 75,
   "metadata": {},
   "outputs": [
    {
     "name": "stdout",
     "output_type": "stream",
     "text": [
      "[5.857157, 2.346411, 1.7031145, 1.4047523, 1.2162452, 1.067876, 0.9677779, 0.91254264, 0.84139866, 0.8094026, 0.7733439, 0.75679874, 0.7260946, 0.6804067, 0.66870797, 0.6454973, 0.64789987, 0.6334399, 0.6151453, 0.5863159, 0.5822089, 0.57896346, 0.56011033, 0.54979527, 0.5406302, 0.53727275, 0.52818066, 0.5390681, 0.5150174, 0.50671685, 0.49329492, 0.5008933, 0.48872775, 0.48163217, 0.47454232, 0.46664098, 0.4790593, 0.4708561, 0.46835035, 0.443561, 0.44574857, 0.43702346, 0.45491913, 0.43887556, 0.44349575, 0.43038046, 0.43664497, 0.4193257, 0.43684936, 0.4294219, 0.42105782, 0.40990895, 0.40737528, 0.40337646, 0.41266933, 0.40098742, 0.4039665, 0.3993326, 0.38936833, 0.38632506, 0.38134846, 0.3871002, 0.38994223, 0.3876949, 0.37671405, 0.37623793, 0.37893832, 0.3753566, 0.37908515, 0.3724818, 0.36401564, 0.36487794, 0.36287433, 0.35766494, 0.3729366, 0.36452082, 0.36126268, 0.35060313, 0.35478476, 0.3501411, 0.34710753, 0.35141438, 0.355838, 0.34816933, 0.34632614, 0.33971095, 0.34417778, 0.34738332, 0.33812624, 0.33751327, 0.33140832, 0.3355836, 0.33082867, 0.33699152, 0.3341105, 0.33837587, 0.32686123, 0.32783842, 0.3232692, 0.32785898]\n"
     ]
    }
   ],
   "source": [
    "print(accumulator2)"
   ]
  },
  {
   "cell_type": "code",
   "execution_count": 76,
   "metadata": {},
   "outputs": [],
   "source": [
    "from matplotlib import pyplot as plt"
   ]
  },
  {
   "cell_type": "code",
   "execution_count": 77,
   "metadata": {},
   "outputs": [
    {
     "data": {
      "text/plain": [
       "<matplotlib.collections.PathCollection at 0x122fd56a0>"
      ]
     },
     "execution_count": 77,
     "metadata": {},
     "output_type": "execute_result"
    }
   ],
   "source": [
    "plt.scatter(np.arange(len(accumulator1)),accumulator1,s=0.1)"
   ]
  },
  {
   "cell_type": "code",
   "execution_count": 78,
   "metadata": {},
   "outputs": [
    {
     "data": {
      "text/plain": [
       "<matplotlib.collections.PathCollection at 0x122fdc1d0>"
      ]
     },
     "execution_count": 78,
     "metadata": {},
     "output_type": "execute_result"
    }
   ],
   "source": [
    "plt.scatter(np.arange(len(accumulator2)),accumulator2,s=0.1)"
   ]
  },
  {
   "cell_type": "code",
   "execution_count": 79,
   "metadata": {},
   "outputs": [
    {
     "data": {
      "image/png": "[encoded data removed]",
      "text/plain": [
       "<matplotlib.figure.Figure at 0x121873160>"
      ]
     },
     "metadata": {},
     "output_type": "display_data"
    }
   ],
   "source": [
    "plt.show()"
   ]
  },
  {
   "cell_type": "code",
   "execution_count": 62,
   "metadata": {},
   "outputs": [],
   "source": [
    "plt.show()"
   ]
  },
  {
   "cell_type": "code",
   "execution_count": 63,
   "metadata": {},
   "outputs": [
    {
     "data": {
      "text/plain": [
       "0.888"
      ]
     },
     "execution_count": 63,
     "metadata": {},
     "output_type": "execute_result"
    }
   ],
   "source": [
    "sess.run(accuracy, feed_dict={x: mnist.test.images, y_: mnist.test.labels})"
   ]
  },
  {
   "cell_type": "code",
   "execution_count": 22,
   "metadata": {
    "collapsed": true
   },
   "outputs": [],
   "source": [
    "import cv2"
   ]
  },
  {
   "cell_type": "code",
   "execution_count": null,
   "metadata": {},
   "outputs": [],
   "source": [
    "len(mnist.train.labels)"
   ]
  },
  {
   "cell_type": "code",
   "execution_count": 82,
   "metadata": {
    "collapsed": true
   },
   "outputs": [],
   "source": [
    "def r(n):\n",
    "    return(2**(2*n*(n-1)))\n"
   ]
  },
  {
   "cell_type": "code",
   "execution_count": 83,
   "metadata": {},
   "outputs": [
    {
     "name": "stdout",
     "output_type": "stream",
     "text": [
      "1\n",
      "1\n",
      "16\n",
      "4096\n",
      "16777216\n",
      "1099511627776\n",
      "1152921504606846976\n",
      "19342813113834066795298816\n",
      "5192296858534827628530496329220096\n",
      "22300745198530623141535718272648361505980416\n"
     ]
    }
   ],
   "source": [
    "for e in range(10):\n",
    "    print(r(e))"
   ]
  },
  {
   "cell_type": "code",
   "execution_count": 97,
   "metadata": {},
   "outputs": [
    {
     "data": {
      "text/plain": [
       "0"
      ]
     },
     "execution_count": 97,
     "metadata": {},
     "output_type": "execute_result"
    }
   ],
   "source": [
    "0"
   ]
  },
  {
   "cell_type": "code",
   "execution_count": null,
   "metadata": {},
   "outputs": [],
   "source": [
    "\n"
   ]
  },
  {
   "cell_type": "code",
   "execution_count": null,
   "metadata": {
    "collapsed": true
   },
   "outputs": [],
   "source": []
  }
 ],
 "metadata": {
  "kernelspec": {
   "display_name": "Python 3",
   "language": "python",
   "name": "python3"
  },
  "language_info": {
   "codemirror_mode": {
    "name": "ipython",
    "version": 3
   },
   "file_extension": ".py",
   "mimetype": "text/x-python",
   "name": "python",
   "nbconvert_exporter": "python",
   "pygments_lexer": "ipython3",
   "version": "3.6.0"
  }
 },
 "nbformat": 4,
 "nbformat_minor": 2
}
